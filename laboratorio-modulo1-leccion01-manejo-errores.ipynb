{
 "cells": [
  {
   "cell_type": "markdown",
   "metadata": {},
   "source": [
    "\n",
    "<div style=\"text-align: center;\">\n",
    "  <img src=\"https://github.com/Hack-io-Data/Imagenes/blob/main/01-LogosHackio/logo_celeste@4x.png?raw=true\" alt=\"esquema\" />\n",
    "</div>\n"
   ]
  },
  {
   "cell_type": "markdown",
   "metadata": {},
   "source": [
    "# Laboratorio de Python: manejo de errores."
   ]
  },
  {
   "cell_type": "markdown",
   "metadata": {},
   "source": [
    "## Ejercicio 1: División con manejo de excepciones\n",
    "\n",
    "Escribe un programa que pida al usuario dos números e intente dividirlos. Si el usuario ingresa un valor no numérico o intenta dividir por cero, maneja esas excepciones de manera adecuada. Asegúrate de mostrar un mensaje indicando si la división fue exitosa o no.\n"
   ]
  },
  {
   "cell_type": "code",
   "execution_count": null,
   "metadata": {},
   "outputs": [],
   "source": [
    "def division_segura(num1, num2):\n",
    "    try:\n",
    "        resultado = num1 / num2\n",
    "        print(f\"Resultado: {resultado}\")\n",
    "    except ZeroDivisionError:\n",
    "        print(\"Error: No se puede dividir por cero.\")\n",
    "    except TypeError:\n",
    "        print(\"Error: Ambos valores deben ser numéricos.\")\n",
    "    except Exception as e:\n",
    "        print(f\"Error inesperado: {e}\")\n",
    "    finally:\n",
    "        print(\"Operación finalizada.\")\n",
    "\n",
    "#ejemplo1 division_segura(10, 2) division_segura(10, 0) division_segura(10, \"a\")\n"
   ]
  },
  {
   "cell_type": "markdown",
   "metadata": {},
   "source": [
    "## Ejercicio 2: Acceso a archivos\n",
    "\n",
    "Escribe un programa que intente abrir un archivo llamado \"datos.txt\". Si el archivo no existe, captura la excepción y muestra un mensaje de error. Asegúrate de cerrar el archivo correctamente en la sección `finally`.\n"
   ]
  },
  {
   "cell_type": "code",
   "execution_count": null,
   "metadata": {},
   "outputs": [],
   "source": [
    "def acceso_archivo(nombre_archivo):\n",
    "    try:\n",
    "        with open(nombre_archivo, \"r\") as archivo:\n",
    "            contenido = archivo.read()\n",
    "            print(\"Contenido del archivo:\", contenido)\n",
    "    except FileNotFoundError:\n",
    "        print(f\"Error: El archivo '{nombre_archivo}' no existe.\")\n",
    "    except Exception as e:\n",
    "        print(f\"Error inesperado: {e}\")\n",
    "    finally:\n",
    "        print(\"Finalizando intento de acceso al archivo.\")\n",
    "\n",
    "#ejemplo2 acceso_archivo(\"archivo_inexistente.txt\")"
   ]
  },
  {
   "cell_type": "markdown",
   "metadata": {},
   "source": [
    "## Ejercicio 3: Conversión de cadenas a enteros\n",
    "\n",
    "Escribe un programa que pida una lista de números separados por comas y convierta cada valor a un número entero. Maneja las excepciones para valores que no sean convertibles y asegúrate de informar si la conversión fue exitosa o no.\n"
   ]
  },
  {
   "cell_type": "code",
   "execution_count": null,
   "metadata": {},
   "outputs": [],
   "source": [
    "def conversion_cadenas(cadena):\n",
    "    try:\n",
    "        numeros = [int(x.strip()) for x in cadena.split(\",\")]\n",
    "        print(\"Conversión exitosa:\", numeros)\n",
    "    except ValueError as e:\n",
    "        print(\"Error de conversión:\", e)\n",
    "    except Exception as e:\n",
    "        print(f\"Error inesperado: {e}\")\n",
    "    finally:\n",
    "        print(\"Intento de conversión completado.\")\n"
   ]
  },
  {
   "cell_type": "markdown",
   "metadata": {},
   "source": [
    "#### Ejercicio 4: Cálculo del promedio con manejo de excepciones\n",
    "\n",
    "Escribe una función que reciba una lista de números y calcule su promedio. Si la lista está vacía, lanza una excepción personalizada y maneja el error adecuadamente.\n"
   ]
  },
  {
   "cell_type": "code",
   "execution_count": null,
   "metadata": {},
   "outputs": [],
   "source": [
    "def calcular_promedio(lista):\n",
    "    try:\n",
    "        if not lista:\n",
    "            raise ValueError(\"La lista está vacía.\")\n",
    "        promedio = sum(lista) / len(lista)\n",
    "        print(\"Promedio:\", promedio)\n",
    "    except ValueError as e:\n",
    "        print(\"Error:\", e)\n",
    "    except Exception as e:\n",
    "        print(f\"Error inesperado: {e}\")\n",
    "    finally:\n",
    "        print(\"Intento de cálculo del promedio completado.\")\n"
   ]
  },
  {
   "cell_type": "markdown",
   "metadata": {},
   "source": [
    "#### Ejercicio 5: Conversión segura de números\n",
    "\n",
    "Escribe un programa que convierta una cadena a número flotante e intente realizar una operación aritmética. Si la conversión falla, maneja la excepción y continúa con el flujo normal."
   ]
  },
  {
   "cell_type": "code",
   "execution_count": null,
   "metadata": {},
   "outputs": [],
   "source": [
    "def convertir_cadena(cadena):\n",
    "    try:\n",
    "        numero = float(cadena)\n",
    "        print(\"Conversión exitosa:\", numero)\n",
    "    except ValueError:\n",
    "        print(\"Error: La cadena no puede convertirse a un número.\")\n",
    "    except Exception as e:\n",
    "        print(f\"Error inesperado: {e}\")\n",
    "    finally:\n",
    "        print(\"Intento de conversión completado.\")\n"
   ]
  },
  {
   "cell_type": "markdown",
   "metadata": {},
   "source": [
    "#### Ejercicio 6: Acceso a claves en diccionarios\n",
    "\n",
    "Escribe un programa que intente acceder a una clave específica en un diccionario. Si la clave no existe, maneja la excepción `KeyError` y muestra un mensaje indicando el problema."
   ]
  },
  {
   "cell_type": "code",
   "execution_count": null,
   "metadata": {},
   "outputs": [],
   "source": [
    "def acceso_clave(diccionario, clave):\n",
    "    try:\n",
    "        valor = diccionario[clave]\n",
    "        print(f\"Valor asociado a '{clave}': {valor}\")\n",
    "    except KeyError:\n",
    "        print(f\"Error: La clave '{clave}' no existe en el diccionario.\")\n",
    "    except Exception as e:\n",
    "        print(f\"Error inesperado: {e}\")\n",
    "    finally:\n",
    "        print(\"Intento de acceso al diccionario completado.\")\n",
    "\n",
    "\n",
    "#ejemplo6 acceso_clave({\"a\": 1, \"b\": 2}, \"a\") acceso_clave({\"a\": 1, \"b\": 2}, \"c\")\n"
   ]
  },
  {
   "cell_type": "markdown",
   "metadata": {},
   "source": [
    "\n",
    "#### Ejercicio 7: Verificación de entradas de usuario\n",
    "\n",
    "Escribe un programa que pida al usuario que introduzca su edad. Si el usuario ingresa un valor no numérico o un valor fuera del rango esperado (por ejemplo, menor que 0 o mayor que 120), maneja las excepciones adecuadamente."
   ]
  },
  {
   "cell_type": "code",
   "execution_count": null,
   "metadata": {},
   "outputs": [],
   "source": [
    "def verificar_edad(edad):\n",
    "    try:\n",
    "        if not isinstance(edad, int):\n",
    "            raise ValueError(\"La edad debe ser un número entero.\")\n",
    "        if edad < 0 or edad > 120:\n",
    "            raise ValueError(\"La edad debe estar entre 0 y 120.\")\n",
    "        print(\"Edad válida:\", edad)\n",
    "    except ValueError as e:\n",
    "        print(\"Error:\", e)\n",
    "    except Exception as e:\n",
    "        print(f\"Error inesperado: {e}\")\n",
    "    finally:\n",
    "        print(\"Verificación de edad completada.\")"
   ]
  },
  {
   "cell_type": "markdown",
   "metadata": {},
   "source": [
    "#### Ejercicio 8: Extracción de valores de una lista\n",
    "\n",
    "Escribe una función que intente acceder a un índice específico en una lista. Si el índice está fuera del rango, maneja la excepción `IndexError` y muestra un mensaje adecuado.\n"
   ]
  },
  {
   "cell_type": "code",
   "execution_count": null,
   "metadata": {},
   "outputs": [],
   "source": [
    "def extraer_valor(lista, indice):\n",
    "    try:\n",
    "        valor = lista[indice]\n",
    "        print(f\"Valor en índice {indice}:\", valor)\n",
    "    except IndexError:\n",
    "        print(f\"Error: El índice {indice} está fuera de rango.\")\n",
    "    except Exception as e:\n",
    "       \n"
   ]
  }
 ],
 "metadata": {
  "kernelspec": {
   "display_name": "contenido",
   "language": "python",
   "name": "python3"
  },
  "language_info": {
   "codemirror_mode": {
    "name": "ipython",
    "version": 3
   },
   "file_extension": ".py",
   "mimetype": "text/x-python",
   "name": "python",
   "nbconvert_exporter": "python",
   "pygments_lexer": "ipython3",
   "version": "3.11.8"
  }
 },
 "nbformat": 4,
 "nbformat_minor": 2
}
